{
  "nbformat": 4,
  "nbformat_minor": 0,
  "metadata": {
    "colab": {
      "name": "SQL_Assignment_7.ipynb",
      "provenance": []
    },
    "kernelspec": {
      "name": "python3",
      "display_name": "Python 3"
    },
    "language_info": {
      "name": "python"
    }
  },
  "cells": [
    {
      "cell_type": "markdown",
      "source": [
        "Q1). Write an SQL query to show only odd rows from a table.\n",
        "\n",
        "Ans) \n",
        "\n",
        "SELECT * FROM( SELECT rownum rn, empno, ename FROM emp) temp WHERE  MOD(temp.rn,2) = 1|"
      ],
      "metadata": {
        "id": "AqLOvjwZT5Ff"
      }
    },
    {
      "cell_type": "markdown",
      "source": [
        "Q2). Write an SQL query to clone a new table from another table.\n",
        "\n",
        "Ans) \n",
        "\n",
        "CREATE TABLE new_table LIKE original_table;\n",
        "INSERT INTO new_table SELECT * FROM original_table;\n",
        "CREATE TABLE employees_clone LIKE employees;\n",
        "INSERT INTO employees_clone SELECT * FROM employees;"
      ],
      "metadata": {
        "id": "J7ZaqVxcT5CG"
      }
    },
    {
      "cell_type": "code",
      "execution_count": null,
      "metadata": {
        "id": "Gu7pm52LT1vg"
      },
      "outputs": [],
      "source": [
        ""
      ]
    }
  ]
}